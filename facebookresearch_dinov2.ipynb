{
  "nbformat": 4,
  "nbformat_minor": 0,
  "metadata": {
    "colab": {
      "provenance": [],
      "machine_shape": "hm",
      "gpuType": "V28",
      "authorship_tag": "ABX9TyPjjCnlUD83Fan24K3qRW/B",
      "include_colab_link": true
    },
    "kernelspec": {
      "name": "python3",
      "display_name": "Python 3"
    },
    "language_info": {
      "name": "python"
    },
    "accelerator": "TPU"
  },
  "cells": [
    {
      "cell_type": "markdown",
      "metadata": {
        "id": "view-in-github",
        "colab_type": "text"
      },
      "source": [
        "<a href=\"https://colab.research.google.com/github/adimehta9/CS480-PlantPredictTraits/blob/main/facebookresearch_dinov2.ipynb\" target=\"_parent\"><img src=\"https://colab.research.google.com/assets/colab-badge.svg\" alt=\"Open In Colab\"/></a>"
      ]
    },
    {
      "cell_type": "markdown",
      "source": [
        "# Kaggle Setup"
      ],
      "metadata": {
        "id": "_NKy8O0Uje7i"
      }
    },
    {
      "cell_type": "code",
      "execution_count": null,
      "metadata": {
        "id": "KI13K8lG15Oa"
      },
      "outputs": [],
      "source": [
        "!pip install -q kaggle\n",
        "from google.colab import files\n",
        "files.upload()\n",
        "! mkdir ~/.kaggle\n",
        "! cp kaggle.json ~/.kaggle/\n",
        "! chmod 600 ~/.kaggle/kaggle.json\n",
        "! kaggle competitions download -c cs-480-2024-spring\n",
        "!unzip cs-480-2024-spring.zip"
      ]
    },
    {
      "cell_type": "markdown",
      "source": [
        "# Install and Import Dependences"
      ],
      "metadata": {
        "id": "UlvY3rPgjj92"
      }
    },
    {
      "cell_type": "code",
      "source": [
        "!pip install pandas numpy scikit-learn torch torchvision pillow tqdm requests timm catboost"
      ],
      "metadata": {
        "id": "GV6tFlLJ-ZYY",
        "colab": {
          "base_uri": "https://localhost:8080/"
        },
        "outputId": "ecbfa8d5-0b81-4725-de67-9fb75986305e"
      },
      "execution_count": null,
      "outputs": [
        {
          "output_type": "stream",
          "name": "stdout",
          "text": [
            "Requirement already satisfied: pandas in /usr/local/lib/python3.10/dist-packages (2.1.4)\n",
            "Requirement already satisfied: numpy in /usr/local/lib/python3.10/dist-packages (1.26.4)\n",
            "Requirement already satisfied: scikit-learn in /usr/local/lib/python3.10/dist-packages (1.3.2)\n",
            "Requirement already satisfied: torch in /usr/local/lib/python3.10/dist-packages (2.3.0+cpu)\n",
            "Requirement already satisfied: torchvision in /usr/local/lib/python3.10/dist-packages (0.18.0+cpu)\n",
            "Requirement already satisfied: pillow in /usr/local/lib/python3.10/dist-packages (10.4.0)\n",
            "Requirement already satisfied: tqdm in /usr/local/lib/python3.10/dist-packages (4.66.5)\n",
            "Requirement already satisfied: requests in /usr/local/lib/python3.10/dist-packages (2.32.3)\n",
            "Requirement already satisfied: timm in /usr/local/lib/python3.10/dist-packages (1.0.8)\n",
            "Requirement already satisfied: catboost in /usr/local/lib/python3.10/dist-packages (1.2.5)\n",
            "Requirement already satisfied: python-dateutil>=2.8.2 in /usr/local/lib/python3.10/dist-packages (from pandas) (2.9.0.post0)\n",
            "Requirement already satisfied: pytz>=2020.1 in /usr/local/lib/python3.10/dist-packages (from pandas) (2024.1)\n",
            "Requirement already satisfied: tzdata>=2022.1 in /usr/local/lib/python3.10/dist-packages (from pandas) (2024.1)\n",
            "Requirement already satisfied: scipy>=1.5.0 in /usr/local/lib/python3.10/dist-packages (from scikit-learn) (1.13.1)\n",
            "Requirement already satisfied: joblib>=1.1.1 in /usr/local/lib/python3.10/dist-packages (from scikit-learn) (1.4.2)\n",
            "Requirement already satisfied: threadpoolctl>=2.0.0 in /usr/local/lib/python3.10/dist-packages (from scikit-learn) (3.5.0)\n",
            "Requirement already satisfied: filelock in /usr/local/lib/python3.10/dist-packages (from torch) (3.15.4)\n",
            "Requirement already satisfied: typing-extensions>=4.8.0 in /usr/local/lib/python3.10/dist-packages (from torch) (4.12.2)\n",
            "Requirement already satisfied: sympy in /usr/local/lib/python3.10/dist-packages (from torch) (1.13.1)\n",
            "Requirement already satisfied: networkx in /usr/local/lib/python3.10/dist-packages (from torch) (3.3)\n",
            "Requirement already satisfied: jinja2 in /usr/local/lib/python3.10/dist-packages (from torch) (3.1.4)\n",
            "Requirement already satisfied: fsspec in /usr/local/lib/python3.10/dist-packages (from torch) (2024.6.1)\n",
            "Requirement already satisfied: charset-normalizer<4,>=2 in /usr/local/lib/python3.10/dist-packages (from requests) (3.3.2)\n",
            "Requirement already satisfied: idna<4,>=2.5 in /usr/local/lib/python3.10/dist-packages (from requests) (3.7)\n",
            "Requirement already satisfied: urllib3<3,>=1.21.1 in /usr/local/lib/python3.10/dist-packages (from requests) (2.0.7)\n",
            "Requirement already satisfied: certifi>=2017.4.17 in /usr/local/lib/python3.10/dist-packages (from requests) (2024.7.4)\n",
            "Requirement already satisfied: pyyaml in /usr/local/lib/python3.10/dist-packages (from timm) (6.0.2)\n",
            "Requirement already satisfied: huggingface_hub in /usr/local/lib/python3.10/dist-packages (from timm) (0.23.5)\n",
            "Requirement already satisfied: safetensors in /usr/local/lib/python3.10/dist-packages (from timm) (0.4.4)\n",
            "Requirement already satisfied: graphviz in /usr/local/lib/python3.10/dist-packages (from catboost) (0.20.3)\n",
            "Requirement already satisfied: matplotlib in /usr/local/lib/python3.10/dist-packages (from catboost) (3.7.1)\n",
            "Requirement already satisfied: plotly in /usr/local/lib/python3.10/dist-packages (from catboost) (5.15.0)\n",
            "Requirement already satisfied: six in /usr/local/lib/python3.10/dist-packages (from catboost) (1.16.0)\n",
            "Requirement already satisfied: packaging>=20.9 in /usr/local/lib/python3.10/dist-packages (from huggingface_hub->timm) (24.1)\n",
            "Requirement already satisfied: MarkupSafe>=2.0 in /usr/local/lib/python3.10/dist-packages (from jinja2->torch) (2.1.5)\n",
            "Requirement already satisfied: contourpy>=1.0.1 in /usr/local/lib/python3.10/dist-packages (from matplotlib->catboost) (1.2.1)\n",
            "Requirement already satisfied: cycler>=0.10 in /usr/local/lib/python3.10/dist-packages (from matplotlib->catboost) (0.12.1)\n",
            "Requirement already satisfied: fonttools>=4.22.0 in /usr/local/lib/python3.10/dist-packages (from matplotlib->catboost) (4.53.1)\n",
            "Requirement already satisfied: kiwisolver>=1.0.1 in /usr/local/lib/python3.10/dist-packages (from matplotlib->catboost) (1.4.5)\n",
            "Requirement already satisfied: pyparsing>=2.3.1 in /usr/local/lib/python3.10/dist-packages (from matplotlib->catboost) (3.1.2)\n",
            "Requirement already satisfied: tenacity>=6.2.0 in /usr/local/lib/python3.10/dist-packages (from plotly->catboost) (9.0.0)\n",
            "Requirement already satisfied: mpmath<1.4,>=1.1.0 in /usr/local/lib/python3.10/dist-packages (from sympy->torch) (1.3.0)\n"
          ]
        }
      ]
    },
    {
      "cell_type": "code",
      "source": [
        "import pandas as pd\n",
        "import numpy as np\n",
        "from sklearn.preprocessing import StandardScaler, PolynomialFeatures\n",
        "import os\n",
        "from torch.utils.data import DataLoader, Dataset\n",
        "import torchvision.transforms as transforms\n",
        "from PIL import Image\n",
        "from tqdm.notebook import tqdm\n",
        "import torch\n",
        "from sklearn.model_selection import train_test_split\n",
        "import requests\n",
        "import timm\n",
        "from catboost import CatBoostRegressor\n",
        "import pickle\n",
        "from sklearn.metrics import mean_squared_error"
      ],
      "metadata": {
        "id": "RPAL8c0X-WoF"
      },
      "execution_count": null,
      "outputs": []
    },
    {
      "cell_type": "markdown",
      "source": [
        "# Preprocessing Data"
      ],
      "metadata": {
        "id": "DyRiTo2ajp_B"
      }
    },
    {
      "cell_type": "code",
      "source": [
        "# Read Training and Testing Data\n",
        "train_df = pd.read_csv('./data/train.csv')\n",
        "test_df = pd.read_csv('./data/test.csv')\n",
        "\n",
        "# Get ancillary part of data\n",
        "X_train_ancillary = train_df.iloc[:, 1:164]\n",
        "X_test_ancillary = test_df.iloc[:, 1:]"
      ],
      "metadata": {
        "id": "ZWXLBdaT-cxl"
      },
      "execution_count": null,
      "outputs": []
    },
    {
      "cell_type": "code",
      "source": [
        "# Standardise\n",
        "scaler = StandardScaler()\n",
        "X_train_ancillary = scaler.fit_transform(X_train_ancillary)\n",
        "X_test_ancillary = scaler.transform(X_test_ancillary)\n",
        "\n",
        "\n",
        "\n",
        "# Find polynomial features of standardised data\n",
        "poly = PolynomialFeatures(2)\n",
        "X_train_poly = poly.fit_transform(X_train_ancillary)\n",
        "X_test_poly = poly.transform(X_test_ancillary)\n",
        "\n",
        "X_train_ancillary.shape, X_train_poly.shape"
      ],
      "metadata": {
        "id": "P3xtX1yE-e14",
        "colab": {
          "base_uri": "https://localhost:8080/"
        },
        "outputId": "afb59969-dbb1-4790-8afb-a047c0eedf06"
      },
      "execution_count": null,
      "outputs": [
        {
          "output_type": "execute_result",
          "data": {
            "text/plain": [
              "((43363, 163), (43363, 13530))"
            ]
          },
          "metadata": {},
          "execution_count": 15
        }
      ]
    },
    {
      "cell_type": "code",
      "source": [
        "# Loading Data Class\n",
        "class PlantDataset(Dataset):\n",
        "    def __init__(self, image_folder, dataframe, transform=None):\n",
        "        self.image_folder = image_folder\n",
        "        self.dataframe = dataframe\n",
        "        self.transform = transform\n",
        "\n",
        "    def __len__(self):\n",
        "        return len(self.dataframe)\n",
        "\n",
        "    def __getitem__(self, idx):\n",
        "        img_name = str(self.dataframe.iloc[idx, 0]) + \".jpeg\"\n",
        "        img_path = os.path.join(self.image_folder, img_name)\n",
        "        image = Image.open(img_path).convert('RGB')\n",
        "        if self.transform:\n",
        "            image = self.transform(image)\n",
        "        return image, img_name"
      ],
      "metadata": {
        "id": "fYvxDHnu-gM2"
      },
      "execution_count": null,
      "outputs": []
    },
    {
      "cell_type": "code",
      "source": [
        "# Create Transformation and Data loaders\n",
        "train_transform = transforms.Compose([\n",
        "    transforms.Resize(size=(224, 224)),\n",
        "    transforms.ToTensor(),\n",
        "    transforms.Normalize(mean=[0.485, 0.456, 0.406], std=[0.229, 0.224, 0.225]),\n",
        "])\n",
        "\n",
        "test_transform = transforms.Compose([\n",
        "    transforms.Resize(size=(224, 224)),\n",
        "    transforms.ToTensor(),\n",
        "    transforms.Normalize(mean=[0.485, 0.456, 0.406], std=[0.229, 0.224, 0.225]),\n",
        "])\n",
        "\n",
        "train_dataset = PlantDataset('./data/train_images', train_df, transform=train_transform)\n",
        "test_dataset = PlantDataset('./data/test_images', test_df, transform=test_transform)\n",
        "\n",
        "batch_size = 64\n",
        "train_loader = DataLoader(train_dataset, batch_size=batch_size, shuffle=False)\n",
        "test_loader = DataLoader(test_dataset, batch_size=batch_size, shuffle=False)\n",
        "\n",
        "\n"
      ],
      "metadata": {
        "id": "EjFamydX-iQo"
      },
      "execution_count": null,
      "outputs": []
    },
    {
      "cell_type": "markdown",
      "source": [
        "# Feature Extraction"
      ],
      "metadata": {
        "id": "fRhAP3C_kHo1"
      }
    },
    {
      "cell_type": "code",
      "source": [
        "# Load DINOV2 Model\n",
        "model = torch.hub.load('facebookresearch/dinov2', 'dinov2_vitg14_reg')\n",
        "model.eval()\n"
      ],
      "metadata": {
        "id": "dx573Wh2-ivW"
      },
      "execution_count": null,
      "outputs": []
    },
    {
      "cell_type": "code",
      "source": [
        "# Run model on dataset in batches to extract features of each image\n",
        "def extract_features(dataloader):\n",
        "    all_featuress = []\n",
        "    for images, _ in tqdm(dataloader):\n",
        "        with torch.no_grad():\n",
        "            outputs = model(images).cpu().numpy()\n",
        "            all_featuress.append(outputs)\n",
        "    all_featuress = np.vstack(all_featuress)\n",
        "    return all_featuress\n",
        "\n",
        "X_train_images = extract_features(train_loader)\n",
        "X_test_images = extract_features(test_loader)\n"
      ],
      "metadata": {
        "id": "y2D9U-ix-lCe"
      },
      "execution_count": null,
      "outputs": []
    },
    {
      "cell_type": "code",
      "source": [
        "# # Save Data (Not necessary to run)\n",
        "# np.save('X_train_images.npy', X_train_images)\n",
        "# np.save('X_test_images.npy', X_test_images)\n",
        "# np.save('X_train_ancillary.npy', X_train_ancillary)\n",
        "# np.save('X_test_ancillary.npy', X_test_ancillary)"
      ],
      "metadata": {
        "id": "gJsE3xMpFTLn"
      },
      "execution_count": null,
      "outputs": []
    },
    {
      "cell_type": "code",
      "source": [
        "# # Load Data (Not necessary to run)\n",
        "# X_train_images = np.load('X_train_images.npy')\n",
        "# X_test_images = np.load('X_test_images.npy')\n",
        "# X_train_ancillary = np.load('X_train_ancillary.npy')\n",
        "# X_test_ancillary = np.load('X_test_ancillary.npy')"
      ],
      "metadata": {
        "id": "-reWPPd089Zh"
      },
      "execution_count": null,
      "outputs": []
    },
    {
      "cell_type": "markdown",
      "source": [
        "# Regression Modelling"
      ],
      "metadata": {
        "id": "26hSzBrYkijb"
      }
    },
    {
      "cell_type": "code",
      "source": [
        "# Create complete dataset\n",
        "X_train_combined = np.hstack((X_train_images, X_train_poly))\n",
        "X_test_combined = np.hstack((X_test_images, X_test_poly))"
      ],
      "metadata": {
        "id": "HEyserlSBy2v"
      },
      "execution_count": null,
      "outputs": []
    },
    {
      "cell_type": "code",
      "source": [
        "targets = ['X4_mean', 'X11_mean', 'X18_mean','X26_mean', 'X50_mean', 'X3112_mean']\n",
        "y_train = train_df.iloc[:, 164:]"
      ],
      "metadata": {
        "id": "cGmc1E6mB7lV"
      },
      "execution_count": null,
      "outputs": []
    },
    {
      "cell_type": "code",
      "source": [
        "# Create Catboost regressor model for each trait\n",
        "\n",
        "models = {}\n",
        "for i, target in enumerate(y_train.columns):\n",
        "    X_train_split, X_val_split, y_train_split, y_val_split = train_test_split(X_train_combined, y_train[target], test_size=0.2, random_state=42)\n",
        "    model = CatBoostRegressor(iterations=1500, learning_rate=0.06, depth=6, loss_function='RMSE')\n",
        "    model.fit(X_train_split, y_train_split, eval_set=(X_val_split, y_val_split), verbose=100)\n",
        "\n",
        "    models[target] = model\n",
        "\n",
        "    # Predict on val\n",
        "    y_val_pred = model.predict(X_val_split)\n",
        "    rmse = np.sqrt(mean_squared_error(y_val_split, y_val_pred))\n",
        "    print(f'Validation RMSE for {target}: {rmse}')"
      ],
      "metadata": {
        "colab": {
          "base_uri": "https://localhost:8080/"
        },
        "id": "AR6NTNPlB82V",
        "outputId": "c0af1e30-d109-4851-cf3f-27f1a18548ea"
      },
      "execution_count": null,
      "outputs": [
        {
          "output_type": "stream",
          "name": "stdout",
          "text": [
            "0:\tlearn: 0.1354912\ttest: 0.1364235\tbest: 0.1364235 (0)\ttotal: 506ms\tremaining: 12m 38s\n",
            "100:\tlearn: 0.1064679\ttest: 0.1097424\tbest: 0.1097424 (100)\ttotal: 36.3s\tremaining: 8m 22s\n",
            "200:\tlearn: 0.1012646\ttest: 0.1065336\tbest: 0.1065336 (200)\ttotal: 1m 12s\tremaining: 7m 47s\n",
            "300:\tlearn: 0.0965583\ttest: 0.1045033\tbest: 0.1045033 (300)\ttotal: 1m 48s\tremaining: 7m 11s\n",
            "400:\tlearn: 0.0926189\ttest: 0.1032622\tbest: 0.1032622 (400)\ttotal: 2m 24s\tremaining: 6m 35s\n",
            "500:\tlearn: 0.0890310\ttest: 0.1023670\tbest: 0.1023670 (500)\ttotal: 3m\tremaining: 5m 59s\n",
            "600:\tlearn: 0.0857960\ttest: 0.1016795\tbest: 0.1016795 (600)\ttotal: 3m 36s\tremaining: 5m 23s\n",
            "700:\tlearn: 0.0828380\ttest: 0.1010537\tbest: 0.1010537 (700)\ttotal: 4m 12s\tremaining: 4m 47s\n",
            "800:\tlearn: 0.0801465\ttest: 0.1005796\tbest: 0.1005796 (800)\ttotal: 4m 48s\tremaining: 4m 12s\n",
            "900:\tlearn: 0.0774593\ttest: 0.1001764\tbest: 0.1001764 (900)\ttotal: 5m 25s\tremaining: 3m 36s\n",
            "1000:\tlearn: 0.0750578\ttest: 0.0998203\tbest: 0.0998203 (1000)\ttotal: 6m 1s\tremaining: 3m\n",
            "1100:\tlearn: 0.0727482\ttest: 0.0995513\tbest: 0.0995513 (1100)\ttotal: 6m 37s\tremaining: 2m 24s\n",
            "1200:\tlearn: 0.0705529\ttest: 0.0993507\tbest: 0.0993507 (1200)\ttotal: 7m 14s\tremaining: 1m 48s\n",
            "1300:\tlearn: 0.0684651\ttest: 0.0991067\tbest: 0.0991067 (1300)\ttotal: 7m 50s\tremaining: 1m 11s\n",
            "1400:\tlearn: 0.0664354\ttest: 0.0988392\tbest: 0.0988392 (1400)\ttotal: 8m 26s\tremaining: 35.8s\n",
            "1499:\tlearn: 0.0644919\ttest: 0.0985867\tbest: 0.0985845 (1495)\ttotal: 9m 2s\tremaining: 0us\n",
            "\n",
            "bestTest = 0.09858452683\n",
            "bestIteration = 1495\n",
            "\n",
            "Shrink model to first 1496 iterations.\n",
            "Validation RMSE for X4_mean: 0.09858452719632087\n",
            "0:\tlearn: 6.8414710\ttest: 6.8695519\tbest: 6.8695519 (0)\ttotal: 461ms\tremaining: 11m 30s\n",
            "100:\tlearn: 5.4914958\ttest: 5.6152648\tbest: 5.6152648 (100)\ttotal: 36.2s\tremaining: 8m 21s\n",
            "200:\tlearn: 5.2080256\ttest: 5.4642579\tbest: 5.4642579 (200)\ttotal: 1m 12s\tremaining: 7m 46s\n",
            "300:\tlearn: 4.9542834\ttest: 5.3668115\tbest: 5.3668115 (300)\ttotal: 1m 48s\tremaining: 7m 12s\n",
            "400:\tlearn: 4.7514647\ttest: 5.3090898\tbest: 5.3090898 (400)\ttotal: 2m 24s\tremaining: 6m 36s\n",
            "500:\tlearn: 4.5735950\ttest: 5.2669209\tbest: 5.2669209 (500)\ttotal: 3m\tremaining: 6m\n",
            "600:\tlearn: 4.4172716\ttest: 5.2427871\tbest: 5.2427871 (600)\ttotal: 3m 36s\tremaining: 5m 24s\n",
            "700:\tlearn: 4.2710088\ttest: 5.2230470\tbest: 5.2230470 (700)\ttotal: 4m 12s\tremaining: 4m 48s\n",
            "800:\tlearn: 4.1315994\ttest: 5.2061485\tbest: 5.2061485 (800)\ttotal: 4m 49s\tremaining: 4m 12s\n",
            "900:\tlearn: 4.0014972\ttest: 5.1839003\tbest: 5.1839003 (900)\ttotal: 5m 25s\tremaining: 3m 36s\n",
            "1000:\tlearn: 3.8777851\ttest: 5.1711799\tbest: 5.1711799 (1000)\ttotal: 6m 1s\tremaining: 3m\n",
            "1100:\tlearn: 3.7593803\ttest: 5.1567344\tbest: 5.1567344 (1100)\ttotal: 6m 37s\tremaining: 2m 24s\n",
            "1200:\tlearn: 3.6476237\ttest: 5.1456124\tbest: 5.1454989 (1197)\ttotal: 7m 13s\tremaining: 1m 47s\n",
            "1300:\tlearn: 3.5388046\ttest: 5.1330633\tbest: 5.1330633 (1300)\ttotal: 7m 49s\tremaining: 1m 11s\n",
            "1400:\tlearn: 3.4337801\ttest: 5.1231400\tbest: 5.1231400 (1400)\ttotal: 8m 25s\tremaining: 35.7s\n",
            "1499:\tlearn: 3.3361216\ttest: 5.1156781\tbest: 5.1156781 (1499)\ttotal: 9m 1s\tremaining: 0us\n",
            "\n",
            "bestTest = 5.115678138\n",
            "bestIteration = 1499\n",
            "\n",
            "Validation RMSE for X11_mean: 5.115678209582302\n",
            "0:\tlearn: 4.2262429\ttest: 4.1549047\tbest: 4.1549047 (0)\ttotal: 445ms\tremaining: 11m 6s\n",
            "100:\tlearn: 2.7887362\ttest: 2.8504622\tbest: 2.8504622 (100)\ttotal: 36.2s\tremaining: 8m 20s\n",
            "200:\tlearn: 2.6098594\ttest: 2.7795840\tbest: 2.7795840 (200)\ttotal: 1m 12s\tremaining: 7m 45s\n",
            "300:\tlearn: 2.4334280\ttest: 2.7366520\tbest: 2.7366520 (300)\ttotal: 1m 48s\tremaining: 7m 10s\n",
            "400:\tlearn: 2.2939974\ttest: 2.7142884\tbest: 2.7142884 (400)\ttotal: 2m 24s\tremaining: 6m 35s\n",
            "500:\tlearn: 2.1780018\ttest: 2.6970213\tbest: 2.6970213 (500)\ttotal: 3m\tremaining: 5m 59s\n",
            "600:\tlearn: 2.0744462\ttest: 2.6823341\tbest: 2.6822825 (599)\ttotal: 3m 36s\tremaining: 5m 24s\n",
            "700:\tlearn: 1.9785737\ttest: 2.6713076\tbest: 2.6713076 (700)\ttotal: 4m 12s\tremaining: 4m 48s\n",
            "800:\tlearn: 1.8883246\ttest: 2.6621429\tbest: 2.6619983 (798)\ttotal: 4m 49s\tremaining: 4m 12s\n",
            "900:\tlearn: 1.8119399\ttest: 2.6542101\tbest: 2.6541324 (899)\ttotal: 5m 25s\tremaining: 3m 36s\n",
            "1000:\tlearn: 1.7366425\ttest: 2.6490656\tbest: 2.6490135 (999)\ttotal: 6m 2s\tremaining: 3m\n",
            "1100:\tlearn: 1.6702720\ttest: 2.6455716\tbest: 2.6455716 (1100)\ttotal: 6m 38s\tremaining: 2m 24s\n",
            "1200:\tlearn: 1.5988959\ttest: 2.6403428\tbest: 2.6403428 (1200)\ttotal: 7m 15s\tremaining: 1m 48s\n",
            "1300:\tlearn: 1.5362872\ttest: 2.6376804\tbest: 2.6376462 (1299)\ttotal: 7m 51s\tremaining: 1m 12s\n",
            "1400:\tlearn: 1.4811795\ttest: 2.6341716\tbest: 2.6341455 (1399)\ttotal: 8m 28s\tremaining: 35.9s\n",
            "1499:\tlearn: 1.4273604\ttest: 2.6295617\tbest: 2.6295617 (1499)\ttotal: 9m 4s\tremaining: 0us\n",
            "\n",
            "bestTest = 2.629561738\n",
            "bestIteration = 1499\n",
            "\n",
            "Validation RMSE for X18_mean: 2.6295675392608215\n",
            "0:\tlearn: 66.6307748\ttest: 65.6570555\tbest: 65.6570555 (0)\ttotal: 446ms\tremaining: 11m 7s\n",
            "100:\tlearn: 54.7571915\ttest: 57.4500475\tbest: 57.4500475 (100)\ttotal: 36.4s\tremaining: 8m 23s\n",
            "200:\tlearn: 51.0813224\ttest: 56.9880507\tbest: 56.9871214 (186)\ttotal: 1m 12s\tremaining: 7m 48s\n",
            "300:\tlearn: 47.4465563\ttest: 56.6744820\tbest: 56.6722213 (297)\ttotal: 1m 48s\tremaining: 7m 13s\n",
            "400:\tlearn: 44.5233631\ttest: 56.4749097\tbest: 56.4749097 (400)\ttotal: 2m 25s\tremaining: 6m 37s\n",
            "500:\tlearn: 41.9954413\ttest: 56.3757586\tbest: 56.3709097 (499)\ttotal: 3m 1s\tremaining: 6m 1s\n",
            "600:\tlearn: 39.6459694\ttest: 56.2753633\tbest: 56.2663238 (559)\ttotal: 3m 37s\tremaining: 5m 25s\n",
            "700:\tlearn: 37.4217653\ttest: 56.1970386\tbest: 56.1957791 (694)\ttotal: 4m 13s\tremaining: 4m 49s\n",
            "800:\tlearn: 35.5571631\ttest: 56.1745229\tbest: 56.1326675 (736)\ttotal: 4m 50s\tremaining: 4m 13s\n",
            "900:\tlearn: 33.8735172\ttest: 56.0931727\tbest: 56.0866209 (893)\ttotal: 5m 26s\tremaining: 3m 36s\n",
            "1000:\tlearn: 32.2384645\ttest: 55.9956016\tbest: 55.9898138 (990)\ttotal: 6m 2s\tremaining: 3m\n",
            "1100:\tlearn: 30.8672581\ttest: 55.9657551\tbest: 55.9404692 (1026)\ttotal: 6m 38s\tremaining: 2m 24s\n",
            "1200:\tlearn: 29.5132387\ttest: 55.9660010\tbest: 55.9404692 (1026)\ttotal: 7m 15s\tremaining: 1m 48s\n",
            "1300:\tlearn: 28.2800727\ttest: 55.9549793\tbest: 55.9404692 (1026)\ttotal: 7m 51s\tremaining: 1m 12s\n",
            "1400:\tlearn: 27.0154431\ttest: 55.9168749\tbest: 55.9168749 (1400)\ttotal: 8m 27s\tremaining: 35.9s\n",
            "1499:\tlearn: 25.8785781\ttest: 55.8844937\tbest: 55.8810158 (1492)\ttotal: 9m 3s\tremaining: 0us\n",
            "\n",
            "bestTest = 55.88101584\n",
            "bestIteration = 1492\n",
            "\n",
            "Shrink model to first 1493 iterations.\n",
            "Validation RMSE for X26_mean: 55.88101537700252\n",
            "0:\tlearn: 0.5869512\ttest: 0.5995274\tbest: 0.5995274 (0)\ttotal: 477ms\tremaining: 11m 54s\n",
            "100:\tlearn: 0.4971690\ttest: 0.5191221\tbest: 0.5191221 (100)\ttotal: 36.3s\tremaining: 8m 23s\n",
            "200:\tlearn: 0.4740299\ttest: 0.5064304\tbest: 0.5064304 (200)\ttotal: 1m 12s\tremaining: 7m 47s\n",
            "300:\tlearn: 0.4517744\ttest: 0.4973470\tbest: 0.4973470 (300)\ttotal: 1m 48s\tremaining: 7m 12s\n",
            "400:\tlearn: 0.4341059\ttest: 0.4923799\tbest: 0.4923526 (399)\ttotal: 2m 24s\tremaining: 6m 36s\n",
            "500:\tlearn: 0.4182381\ttest: 0.4889054\tbest: 0.4889054 (500)\ttotal: 3m\tremaining: 6m\n",
            "600:\tlearn: 0.4037534\ttest: 0.4861128\tbest: 0.4861128 (600)\ttotal: 3m 37s\tremaining: 5m 24s\n",
            "700:\tlearn: 0.3902608\ttest: 0.4842386\tbest: 0.4842316 (699)\ttotal: 4m 13s\tremaining: 4m 48s\n",
            "800:\tlearn: 0.3776997\ttest: 0.4822379\tbest: 0.4822379 (800)\ttotal: 4m 49s\tremaining: 4m 12s\n",
            "900:\tlearn: 0.3660198\ttest: 0.4806327\tbest: 0.4806213 (899)\ttotal: 5m 25s\tremaining: 3m 36s\n",
            "1000:\tlearn: 0.3549172\ttest: 0.4791393\tbest: 0.4791393 (1000)\ttotal: 6m 2s\tremaining: 3m\n",
            "1100:\tlearn: 0.3440661\ttest: 0.4776193\tbest: 0.4776193 (1100)\ttotal: 6m 38s\tremaining: 2m 24s\n",
            "1200:\tlearn: 0.3339534\ttest: 0.4763572\tbest: 0.4763572 (1200)\ttotal: 7m 15s\tremaining: 1m 48s\n",
            "1300:\tlearn: 0.3239494\ttest: 0.4753014\tbest: 0.4752882 (1299)\ttotal: 7m 51s\tremaining: 1m 12s\n",
            "1400:\tlearn: 0.3145135\ttest: 0.4746363\tbest: 0.4746104 (1397)\ttotal: 8m 28s\tremaining: 35.9s\n",
            "1499:\tlearn: 0.3053505\ttest: 0.4737583\tbest: 0.4737583 (1499)\ttotal: 9m 4s\tremaining: 0us\n",
            "\n",
            "bestTest = 0.4737583474\n",
            "bestIteration = 1499\n",
            "\n",
            "Validation RMSE for X50_mean: 0.4737583434819111\n",
            "0:\tlearn: 2240.5384619\ttest: 2160.4428444\tbest: 2160.4428444 (0)\ttotal: 438ms\tremaining: 10m 56s\n",
            "100:\tlearn: 1737.4184257\ttest: 1712.1893133\tbest: 1712.1893133 (100)\ttotal: 36.3s\tremaining: 8m 23s\n",
            "200:\tlearn: 1635.0449226\ttest: 1683.8014319\tbest: 1683.8014319 (200)\ttotal: 1m 12s\tremaining: 7m 47s\n",
            "300:\tlearn: 1540.9622627\ttest: 1665.9043507\tbest: 1665.5044321 (297)\ttotal: 1m 48s\tremaining: 7m 12s\n",
            "400:\tlearn: 1462.8948424\ttest: 1654.8547291\tbest: 1654.8547291 (400)\ttotal: 2m 24s\tremaining: 6m 36s\n",
            "500:\tlearn: 1395.9969094\ttest: 1648.4123553\tbest: 1648.3619808 (499)\ttotal: 3m\tremaining: 6m\n",
            "600:\tlearn: 1337.4096437\ttest: 1643.0019368\tbest: 1643.0019368 (600)\ttotal: 3m 37s\tremaining: 5m 24s\n",
            "700:\tlearn: 1281.7379417\ttest: 1638.5746516\tbest: 1638.4483402 (697)\ttotal: 4m 13s\tremaining: 4m 48s\n",
            "800:\tlearn: 1231.2100394\ttest: 1634.0733602\tbest: 1634.0733602 (800)\ttotal: 4m 49s\tremaining: 4m 12s\n",
            "900:\tlearn: 1183.7064590\ttest: 1630.9279428\tbest: 1630.9279428 (900)\ttotal: 5m 25s\tremaining: 3m 36s\n",
            "1000:\tlearn: 1137.6430046\ttest: 1626.4664668\tbest: 1626.4189151 (999)\ttotal: 6m 1s\tremaining: 3m\n",
            "1100:\tlearn: 1095.1089148\ttest: 1622.7886828\tbest: 1622.5714188 (1098)\ttotal: 6m 38s\tremaining: 2m 24s\n",
            "1200:\tlearn: 1054.7685900\ttest: 1619.6537478\tbest: 1619.6537478 (1200)\ttotal: 7m 14s\tremaining: 1m 48s\n",
            "1300:\tlearn: 1017.9143105\ttest: 1616.6335544\tbest: 1616.5727130 (1298)\ttotal: 7m 50s\tremaining: 1m 11s\n",
            "1400:\tlearn: 983.3774147\ttest: 1614.4735346\tbest: 1614.4654330 (1398)\ttotal: 8m 26s\tremaining: 35.8s\n",
            "1499:\tlearn: 951.8192619\ttest: 1612.1385228\tbest: 1612.0526615 (1497)\ttotal: 9m 2s\tremaining: 0us\n",
            "\n",
            "bestTest = 1612.052662\n",
            "bestIteration = 1497\n",
            "\n",
            "Shrink model to first 1498 iterations.\n",
            "Validation RMSE for X3112_mean: 1612.052659687479\n"
          ]
        }
      ]
    },
    {
      "cell_type": "markdown",
      "source": [
        "# Predictions"
      ],
      "metadata": {
        "id": "j5RHfT9ikzE7"
      }
    },
    {
      "cell_type": "code",
      "source": [
        "submission = pd.DataFrame(0, index=np.arange(X_test_combined.shape[0]), columns=['X4', 'X11', 'X18', 'X26', 'X50', 'X3112'])\n",
        "\n",
        "for target in ['X4', 'X11', 'X18', 'X26', 'X50', 'X3112']:\n",
        "  submission[target] = models[f'{target}_mean'].predict(X_test_combined)\n",
        "\n",
        "submission.insert(0, 'id', test_df['id'])\n",
        "submission.to_csv('20897086_mehta.csv', index=False)\n"
      ],
      "metadata": {
        "id": "8ehwkqbsyG80"
      },
      "execution_count": null,
      "outputs": []
    },
    {
      "cell_type": "code",
      "source": [
        "submission.head()"
      ],
      "metadata": {
        "colab": {
          "base_uri": "https://localhost:8080/",
          "height": 206
        },
        "id": "ZRTKudh_GNPF",
        "outputId": "ebadf2cc-f623-43ed-dcc8-0afb3fe761ac"
      },
      "execution_count": null,
      "outputs": [
        {
          "output_type": "execute_result",
          "data": {
            "text/plain": [
              "          id        X4         X11           X18          X26        X50  \\\n",
              "0  154220505  1.106794  144.147820  19708.745852  3532.091228  15.152983   \n",
              "1  195736552  0.989651  151.866886  19699.387707  3486.066635  15.275854   \n",
              "2  182701773  0.944683  149.308118  19699.837358  3459.703097  15.083917   \n",
              "3   27688500  0.955066  140.684184  19699.063726  3478.650101  16.003674   \n",
              "4  195825045  0.925726  152.962552  19698.930366  3471.571944  14.884578   \n",
              "\n",
              "           X3112  \n",
              "0  400599.869280  \n",
              "1  398757.704511  \n",
              "2  398262.597396  \n",
              "3  398480.240561  \n",
              "4  399157.509068  "
            ],
            "text/html": [
              "\n",
              "  <div id=\"df-0cffe6ab-57fa-4c04-8793-2c8b60828e29\" class=\"colab-df-container\">\n",
              "    <div>\n",
              "<style scoped>\n",
              "    .dataframe tbody tr th:only-of-type {\n",
              "        vertical-align: middle;\n",
              "    }\n",
              "\n",
              "    .dataframe tbody tr th {\n",
              "        vertical-align: top;\n",
              "    }\n",
              "\n",
              "    .dataframe thead th {\n",
              "        text-align: right;\n",
              "    }\n",
              "</style>\n",
              "<table border=\"1\" class=\"dataframe\">\n",
              "  <thead>\n",
              "    <tr style=\"text-align: right;\">\n",
              "      <th></th>\n",
              "      <th>id</th>\n",
              "      <th>X4</th>\n",
              "      <th>X11</th>\n",
              "      <th>X18</th>\n",
              "      <th>X26</th>\n",
              "      <th>X50</th>\n",
              "      <th>X3112</th>\n",
              "    </tr>\n",
              "  </thead>\n",
              "  <tbody>\n",
              "    <tr>\n",
              "      <th>0</th>\n",
              "      <td>154220505</td>\n",
              "      <td>1.106794</td>\n",
              "      <td>144.147820</td>\n",
              "      <td>19708.745852</td>\n",
              "      <td>3532.091228</td>\n",
              "      <td>15.152983</td>\n",
              "      <td>400599.869280</td>\n",
              "    </tr>\n",
              "    <tr>\n",
              "      <th>1</th>\n",
              "      <td>195736552</td>\n",
              "      <td>0.989651</td>\n",
              "      <td>151.866886</td>\n",
              "      <td>19699.387707</td>\n",
              "      <td>3486.066635</td>\n",
              "      <td>15.275854</td>\n",
              "      <td>398757.704511</td>\n",
              "    </tr>\n",
              "    <tr>\n",
              "      <th>2</th>\n",
              "      <td>182701773</td>\n",
              "      <td>0.944683</td>\n",
              "      <td>149.308118</td>\n",
              "      <td>19699.837358</td>\n",
              "      <td>3459.703097</td>\n",
              "      <td>15.083917</td>\n",
              "      <td>398262.597396</td>\n",
              "    </tr>\n",
              "    <tr>\n",
              "      <th>3</th>\n",
              "      <td>27688500</td>\n",
              "      <td>0.955066</td>\n",
              "      <td>140.684184</td>\n",
              "      <td>19699.063726</td>\n",
              "      <td>3478.650101</td>\n",
              "      <td>16.003674</td>\n",
              "      <td>398480.240561</td>\n",
              "    </tr>\n",
              "    <tr>\n",
              "      <th>4</th>\n",
              "      <td>195825045</td>\n",
              "      <td>0.925726</td>\n",
              "      <td>152.962552</td>\n",
              "      <td>19698.930366</td>\n",
              "      <td>3471.571944</td>\n",
              "      <td>14.884578</td>\n",
              "      <td>399157.509068</td>\n",
              "    </tr>\n",
              "  </tbody>\n",
              "</table>\n",
              "</div>\n",
              "    <div class=\"colab-df-buttons\">\n",
              "\n",
              "  <div class=\"colab-df-container\">\n",
              "    <button class=\"colab-df-convert\" onclick=\"convertToInteractive('df-0cffe6ab-57fa-4c04-8793-2c8b60828e29')\"\n",
              "            title=\"Convert this dataframe to an interactive table.\"\n",
              "            style=\"display:none;\">\n",
              "\n",
              "  <svg xmlns=\"http://www.w3.org/2000/svg\" height=\"24px\" viewBox=\"0 -960 960 960\">\n",
              "    <path d=\"M120-120v-720h720v720H120Zm60-500h600v-160H180v160Zm220 220h160v-160H400v160Zm0 220h160v-160H400v160ZM180-400h160v-160H180v160Zm440 0h160v-160H620v160ZM180-180h160v-160H180v160Zm440 0h160v-160H620v160Z\"/>\n",
              "  </svg>\n",
              "    </button>\n",
              "\n",
              "  <style>\n",
              "    .colab-df-container {\n",
              "      display:flex;\n",
              "      gap: 12px;\n",
              "    }\n",
              "\n",
              "    .colab-df-convert {\n",
              "      background-color: #E8F0FE;\n",
              "      border: none;\n",
              "      border-radius: 50%;\n",
              "      cursor: pointer;\n",
              "      display: none;\n",
              "      fill: #1967D2;\n",
              "      height: 32px;\n",
              "      padding: 0 0 0 0;\n",
              "      width: 32px;\n",
              "    }\n",
              "\n",
              "    .colab-df-convert:hover {\n",
              "      background-color: #E2EBFA;\n",
              "      box-shadow: 0px 1px 2px rgba(60, 64, 67, 0.3), 0px 1px 3px 1px rgba(60, 64, 67, 0.15);\n",
              "      fill: #174EA6;\n",
              "    }\n",
              "\n",
              "    .colab-df-buttons div {\n",
              "      margin-bottom: 4px;\n",
              "    }\n",
              "\n",
              "    [theme=dark] .colab-df-convert {\n",
              "      background-color: #3B4455;\n",
              "      fill: #D2E3FC;\n",
              "    }\n",
              "\n",
              "    [theme=dark] .colab-df-convert:hover {\n",
              "      background-color: #434B5C;\n",
              "      box-shadow: 0px 1px 3px 1px rgba(0, 0, 0, 0.15);\n",
              "      filter: drop-shadow(0px 1px 2px rgba(0, 0, 0, 0.3));\n",
              "      fill: #FFFFFF;\n",
              "    }\n",
              "  </style>\n",
              "\n",
              "    <script>\n",
              "      const buttonEl =\n",
              "        document.querySelector('#df-0cffe6ab-57fa-4c04-8793-2c8b60828e29 button.colab-df-convert');\n",
              "      buttonEl.style.display =\n",
              "        google.colab.kernel.accessAllowed ? 'block' : 'none';\n",
              "\n",
              "      async function convertToInteractive(key) {\n",
              "        const element = document.querySelector('#df-0cffe6ab-57fa-4c04-8793-2c8b60828e29');\n",
              "        const dataTable =\n",
              "          await google.colab.kernel.invokeFunction('convertToInteractive',\n",
              "                                                    [key], {});\n",
              "        if (!dataTable) return;\n",
              "\n",
              "        const docLinkHtml = 'Like what you see? Visit the ' +\n",
              "          '<a target=\"_blank\" href=https://colab.research.google.com/notebooks/data_table.ipynb>data table notebook</a>'\n",
              "          + ' to learn more about interactive tables.';\n",
              "        element.innerHTML = '';\n",
              "        dataTable['output_type'] = 'display_data';\n",
              "        await google.colab.output.renderOutput(dataTable, element);\n",
              "        const docLink = document.createElement('div');\n",
              "        docLink.innerHTML = docLinkHtml;\n",
              "        element.appendChild(docLink);\n",
              "      }\n",
              "    </script>\n",
              "  </div>\n",
              "\n",
              "\n",
              "<div id=\"df-5a07288c-c246-488c-8992-1ab87d05471e\">\n",
              "  <button class=\"colab-df-quickchart\" onclick=\"quickchart('df-5a07288c-c246-488c-8992-1ab87d05471e')\"\n",
              "            title=\"Suggest charts\"\n",
              "            style=\"display:none;\">\n",
              "\n",
              "<svg xmlns=\"http://www.w3.org/2000/svg\" height=\"24px\"viewBox=\"0 0 24 24\"\n",
              "     width=\"24px\">\n",
              "    <g>\n",
              "        <path d=\"M19 3H5c-1.1 0-2 .9-2 2v14c0 1.1.9 2 2 2h14c1.1 0 2-.9 2-2V5c0-1.1-.9-2-2-2zM9 17H7v-7h2v7zm4 0h-2V7h2v10zm4 0h-2v-4h2v4z\"/>\n",
              "    </g>\n",
              "</svg>\n",
              "  </button>\n",
              "\n",
              "<style>\n",
              "  .colab-df-quickchart {\n",
              "      --bg-color: #E8F0FE;\n",
              "      --fill-color: #1967D2;\n",
              "      --hover-bg-color: #E2EBFA;\n",
              "      --hover-fill-color: #174EA6;\n",
              "      --disabled-fill-color: #AAA;\n",
              "      --disabled-bg-color: #DDD;\n",
              "  }\n",
              "\n",
              "  [theme=dark] .colab-df-quickchart {\n",
              "      --bg-color: #3B4455;\n",
              "      --fill-color: #D2E3FC;\n",
              "      --hover-bg-color: #434B5C;\n",
              "      --hover-fill-color: #FFFFFF;\n",
              "      --disabled-bg-color: #3B4455;\n",
              "      --disabled-fill-color: #666;\n",
              "  }\n",
              "\n",
              "  .colab-df-quickchart {\n",
              "    background-color: var(--bg-color);\n",
              "    border: none;\n",
              "    border-radius: 50%;\n",
              "    cursor: pointer;\n",
              "    display: none;\n",
              "    fill: var(--fill-color);\n",
              "    height: 32px;\n",
              "    padding: 0;\n",
              "    width: 32px;\n",
              "  }\n",
              "\n",
              "  .colab-df-quickchart:hover {\n",
              "    background-color: var(--hover-bg-color);\n",
              "    box-shadow: 0 1px 2px rgba(60, 64, 67, 0.3), 0 1px 3px 1px rgba(60, 64, 67, 0.15);\n",
              "    fill: var(--button-hover-fill-color);\n",
              "  }\n",
              "\n",
              "  .colab-df-quickchart-complete:disabled,\n",
              "  .colab-df-quickchart-complete:disabled:hover {\n",
              "    background-color: var(--disabled-bg-color);\n",
              "    fill: var(--disabled-fill-color);\n",
              "    box-shadow: none;\n",
              "  }\n",
              "\n",
              "  .colab-df-spinner {\n",
              "    border: 2px solid var(--fill-color);\n",
              "    border-color: transparent;\n",
              "    border-bottom-color: var(--fill-color);\n",
              "    animation:\n",
              "      spin 1s steps(1) infinite;\n",
              "  }\n",
              "\n",
              "  @keyframes spin {\n",
              "    0% {\n",
              "      border-color: transparent;\n",
              "      border-bottom-color: var(--fill-color);\n",
              "      border-left-color: var(--fill-color);\n",
              "    }\n",
              "    20% {\n",
              "      border-color: transparent;\n",
              "      border-left-color: var(--fill-color);\n",
              "      border-top-color: var(--fill-color);\n",
              "    }\n",
              "    30% {\n",
              "      border-color: transparent;\n",
              "      border-left-color: var(--fill-color);\n",
              "      border-top-color: var(--fill-color);\n",
              "      border-right-color: var(--fill-color);\n",
              "    }\n",
              "    40% {\n",
              "      border-color: transparent;\n",
              "      border-right-color: var(--fill-color);\n",
              "      border-top-color: var(--fill-color);\n",
              "    }\n",
              "    60% {\n",
              "      border-color: transparent;\n",
              "      border-right-color: var(--fill-color);\n",
              "    }\n",
              "    80% {\n",
              "      border-color: transparent;\n",
              "      border-right-color: var(--fill-color);\n",
              "      border-bottom-color: var(--fill-color);\n",
              "    }\n",
              "    90% {\n",
              "      border-color: transparent;\n",
              "      border-bottom-color: var(--fill-color);\n",
              "    }\n",
              "  }\n",
              "</style>\n",
              "\n",
              "  <script>\n",
              "    async function quickchart(key) {\n",
              "      const quickchartButtonEl =\n",
              "        document.querySelector('#' + key + ' button');\n",
              "      quickchartButtonEl.disabled = true;  // To prevent multiple clicks.\n",
              "      quickchartButtonEl.classList.add('colab-df-spinner');\n",
              "      try {\n",
              "        const charts = await google.colab.kernel.invokeFunction(\n",
              "            'suggestCharts', [key], {});\n",
              "      } catch (error) {\n",
              "        console.error('Error during call to suggestCharts:', error);\n",
              "      }\n",
              "      quickchartButtonEl.classList.remove('colab-df-spinner');\n",
              "      quickchartButtonEl.classList.add('colab-df-quickchart-complete');\n",
              "    }\n",
              "    (() => {\n",
              "      let quickchartButtonEl =\n",
              "        document.querySelector('#df-5a07288c-c246-488c-8992-1ab87d05471e button');\n",
              "      quickchartButtonEl.style.display =\n",
              "        google.colab.kernel.accessAllowed ? 'block' : 'none';\n",
              "    })();\n",
              "  </script>\n",
              "</div>\n",
              "\n",
              "    </div>\n",
              "  </div>\n"
            ],
            "application/vnd.google.colaboratory.intrinsic+json": {
              "type": "dataframe",
              "variable_name": "submission",
              "summary": "{\n  \"name\": \"submission\",\n  \"rows\": 6391,\n  \"fields\": [\n    {\n      \"column\": \"id\",\n      \"properties\": {\n        \"dtype\": \"number\",\n        \"std\": 41903009,\n        \"min\": 121510,\n        \"max\": 196749822,\n        \"num_unique_values\": 6391,\n        \"samples\": [\n          109913632,\n          195248101,\n          36972248\n        ],\n        \"semantic_type\": \"\",\n        \"description\": \"\"\n      }\n    },\n    {\n      \"column\": \"X4\",\n      \"properties\": {\n        \"dtype\": \"number\",\n        \"std\": 0.09200956007405361,\n        \"min\": 0.7743704834471962,\n        \"max\": 1.38468544244608,\n        \"num_unique_values\": 6391,\n        \"samples\": [\n          1.0152387341838858,\n          1.097712031969824,\n          1.1113393355153174\n        ],\n        \"semantic_type\": \"\",\n        \"description\": \"\"\n      }\n    },\n    {\n      \"column\": \"X11\",\n      \"properties\": {\n        \"dtype\": \"number\",\n        \"std\": 4.444450524290198,\n        \"min\": 132.90214480730157,\n        \"max\": 168.71439130619157,\n        \"num_unique_values\": 6391,\n        \"samples\": [\n          148.15910052912508,\n          149.5070891932113,\n          144.98173866720126\n        ],\n        \"semantic_type\": \"\",\n        \"description\": \"\"\n      }\n    },\n    {\n      \"column\": \"X18\",\n      \"properties\": {\n        \"dtype\": \"number\",\n        \"std\": 3.3786249993647464,\n        \"min\": 19698.155548074188,\n        \"max\": 19716.92691720976,\n        \"num_unique_values\": 6391,\n        \"samples\": [\n          19703.189583521926,\n          19704.157073800616,\n          19705.67766593885\n        ],\n        \"semantic_type\": \"\",\n        \"description\": \"\"\n      }\n    },\n    {\n      \"column\": \"X26\",\n      \"properties\": {\n        \"dtype\": \"number\",\n        \"std\": 36.25712767439794,\n        \"min\": 3440.109507874282,\n        \"max\": 3793.265645862336,\n        \"num_unique_values\": 6391,\n        \"samples\": [\n          3535.0662547326165,\n          3489.5703493320448,\n          3560.7567626852265\n        ],\n        \"semantic_type\": \"\",\n        \"description\": \"\"\n      }\n    },\n    {\n      \"column\": \"X50\",\n      \"properties\": {\n        \"dtype\": \"number\",\n        \"std\": 0.3504339177377478,\n        \"min\": 14.0323170097173,\n        \"max\": 17.470882198727,\n        \"num_unique_values\": 6391,\n        \"samples\": [\n          14.941881396909066,\n          15.026797262196117,\n          15.543762183426473\n        ],\n        \"semantic_type\": \"\",\n        \"description\": \"\"\n      }\n    },\n    {\n      \"column\": \"X3112\",\n      \"properties\": {\n        \"dtype\": \"number\",\n        \"std\": 1441.6585480827794,\n        \"min\": 396870.3091677879,\n        \"max\": 408912.0461223208,\n        \"num_unique_values\": 6391,\n        \"samples\": [\n          401800.3329040255,\n          398671.55768158456,\n          401918.86072971707\n        ],\n        \"semantic_type\": \"\",\n        \"description\": \"\"\n      }\n    }\n  ]\n}"
            }
          },
          "metadata": {},
          "execution_count": 40
        }
      ]
    }
  ]
}